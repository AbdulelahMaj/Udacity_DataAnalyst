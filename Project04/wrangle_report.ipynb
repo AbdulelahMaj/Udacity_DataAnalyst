{
 "cells": [
  {
   "cell_type": "markdown",
   "metadata": {},
   "source": [
    "## Wragle Report: WeRateDogs project"
   ]
  },
  {
   "cell_type": "markdown",
   "metadata": {},
   "source": [
    "#### What is WeRateDogs?"
   ]
  },
  {
   "cell_type": "markdown",
   "metadata": {},
   "source": [
    "> WeRateDogs is a Twitter account that rates people's dogs with a humorous comment about the dog. The account was started in 2015 by college student Matt Nelson, and has received international media attention both for its popularity and for the attention drawn to social media copyright law when it was suspended by Twitter for breaking these aforementioned laws."
   ]
  },
  {
   "cell_type": "markdown",
   "metadata": {},
   "source": [
    "### Gathering Data:"
   ]
  },
  {
   "cell_type": "markdown",
   "metadata": {},
   "source": [
    "In data gathering we have three dataframes from different sources:"
   ]
  },
  {
   "cell_type": "markdown",
   "metadata": {},
   "source": [
    "##### First: twitter_archive_enhanced.csv "
   ]
  },
  {
   "cell_type": "markdown",
   "metadata": {},
   "source": [
    "> I downloaded this file from udacity classroom, it has multiple columns such as time stamp and tweet id. then I read it to a dataframe called df1"
   ]
  },
  {
   "cell_type": "markdown",
   "metadata": {},
   "source": [
    "##### Second: image_prediction.tsv"
   ]
  },
  {
   "cell_type": "markdown",
   "metadata": {},
   "source": [
    "> This dataset I downloaded it using different thing which is called request library from udacity server. it contains image URL and tweet id for each image. then I read it into dataframe also called df2"
   ]
  },
  {
   "cell_type": "markdown",
   "metadata": {},
   "source": [
    "##### Last: tweet_json.txt"
   ]
  },
  {
   "cell_type": "markdown",
   "metadata": {},
   "source": [
    "> I tried using twitter API but they reject my requect to access, so I downloaded the file from udacity in .txt format. Then I read it into a dataframe. It has tweet id, retweet count, and favourite count."
   ]
  },
  {
   "cell_type": "markdown",
   "metadata": {},
   "source": [
    "### Assessing Data:"
   ]
  },
  {
   "cell_type": "markdown",
   "metadata": {},
   "source": [
    "In this phase, I did some visual and programmatic assessments. so I looked into each dataframe then I observed some quality problems such as:\n",
    "> 1. timestamp are in string type which I convert it to datetime type.\n",
    "> 2. columns :(doggo, floofer, pupper, and puppo) has (None) values so I make it NAN.\n",
    "> 3. some of the records, the denominator of it was not 10\n",
    "> 4. Source column has unwanted HTTP code so I remove it \n",
    "> 5. jpg_utl has 66 duplicated rows\n",
    "> 6. in expanded_urls column, we have null values and duplicated values.\n",
    "> 7. some of the names in name column are wierd such as :(a, an, very)\n",
    "> 8. remove unwanted columns such as img_num in df2 (image prediction file)\n",
    "> 9. merge all the dataframes into one dataframe\n",
    "> 10. merge the columns: (doggo, floofer, pupper, and puppo) into one column which called dog_type.\n",
    "> 11. Some of the records are retweets, so we should remove it."
   ]
  },
  {
   "cell_type": "markdown",
   "metadata": {},
   "source": [
    "### Cleaning Data:"
   ]
  },
  {
   "cell_type": "markdown",
   "metadata": {},
   "source": [
    "In this phase, I created a copy of each dataframe then I fix the issues above that I observed in assessing data phase. "
   ]
  },
  {
   "cell_type": "markdown",
   "metadata": {},
   "source": [
    "### Storing Data:"
   ]
  },
  {
   "cell_type": "markdown",
   "metadata": {},
   "source": [
    "After I cleaned the dataframes, I save it into a .csv file \"twitter_archive_master.csv\". so I can do some visulization with it "
   ]
  }
 ],
 "metadata": {
  "kernelspec": {
   "display_name": "Python 3",
   "language": "python",
   "name": "python3"
  },
  "language_info": {
   "codemirror_mode": {
    "name": "ipython",
    "version": 3
   },
   "file_extension": ".py",
   "mimetype": "text/x-python",
   "name": "python",
   "nbconvert_exporter": "python",
   "pygments_lexer": "ipython3",
   "version": "3.6.3"
  }
 },
 "nbformat": 4,
 "nbformat_minor": 2
}
